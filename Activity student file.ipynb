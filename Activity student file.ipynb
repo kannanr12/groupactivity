{
 "cells": [
  {
   "cell_type": "markdown",
   "metadata": {
    "id": "4z_Z-K1tlrS7"
   },
   "source": [
    "## 1. Complete the following code to find the area of an equilateral triangle. Output should be as displayed"
   ]
  },
  {
   "cell_type": "code",
   "execution_count": 3,
   "metadata": {
    "id": "rP2qFD_SlrS_"
   },
   "outputs": [
    {
     "name": "stdin",
     "output_type": "stream",
     "text": [
      "Enter the side of the equilateral triangle:  9\n"
     ]
    },
    {
     "name": "stdout",
     "output_type": "stream",
     "text": [
      "\n",
      "the area of equilateral triangle is : 35.07\n"
     ]
    }
   ],
   "source": [
    "import math\n",
    "side = float(input(\"Enter the side of the equilateral triangle: \"))\n",
    "area = ((math.sqrt(3))/4)*pow(side,2)\n",
    "print(\"\\nthe area of equilateral triangle is :\",round(area,2))\n"
   ]
  },
  {
   "cell_type": "markdown",
   "metadata": {
    "id": "TjVKjIfclrTB"
   },
   "source": [
    "## 2. Write a program to count the number of each characters in a string"
   ]
  },
  {
   "cell_type": "code",
   "execution_count": 4,
   "metadata": {
    "id": "JY5seVUQlrTC"
   },
   "outputs": [
    {
     "name": "stdin",
     "output_type": "stream",
     "text": [
      "enter the string:  malayalam\n"
     ]
    },
    {
     "name": "stdout",
     "output_type": "stream",
     "text": [
      "\n",
      "\n",
      "m = 2\n",
      "a = 4\n",
      "l = 2\n",
      "y = 1\n"
     ]
    }
   ],
   "source": [
    "string=input('enter the string: ')\n",
    "print('\\n')\n",
    "l=[]\n",
    "for i in string:\n",
    "    if i not in l:\n",
    "        l.append(i)\n",
    "for x in l:\n",
    "    print(x,'=',string.count(x))\n",
    "    "
   ]
  },
  {
   "cell_type": "markdown",
   "metadata": {
    "id": "l3LCULfklrTD"
   },
   "source": [
    "## Write a program to find the area and perimeter of a rectangle using functions"
   ]
  },
  {
   "cell_type": "code",
   "execution_count": 5,
   "metadata": {
    "id": "8haQD8edlrTD"
   },
   "outputs": [
    {
     "name": "stdin",
     "output_type": "stream",
     "text": [
      "Enter length 3\n",
      "\n",
      "Enter breadth 4\n"
     ]
    },
    {
     "name": "stdout",
     "output_type": "stream",
     "text": [
      "\n",
      "Area of the reactangle is  12\n",
      "\n",
      "perimeter of the reactangle is  14\n"
     ]
    }
   ],
   "source": [
    "#function to find area of a reactangle\n",
    "def area(x,y):\n",
    "    area = x*y\n",
    "    return area\n",
    "#function to find perimeter of a rectangle\n",
    "def perimeter(m,n):\n",
    "    peri = 2 *(m+n)\n",
    "    return peri\n",
    "length = int(input(\"Enter length\"))\n",
    "breadth = int(input(\"\\nEnter breadth\"))\n",
    "\n",
    "ar = area(length, breadth)\n",
    "pr = perimeter(length, breadth)\n",
    "\n",
    "print(\"\\nArea of the reactangle is\" + \" \",ar)\n",
    "print(\"\\nperimeter of the reactangle is\" + \" \",pr)\n"
   ]
  },
  {
   "cell_type": "markdown",
   "metadata": {
    "id": "JHK4ZdsflrTE"
   },
   "source": [
    "## 4. Write a program to print the fibonacci series till a specified number"
   ]
  },
  {
   "cell_type": "code",
   "execution_count": 6,
   "metadata": {
    "id": "LyBEj-4SlrTE"
   },
   "outputs": [
    {
     "name": "stdin",
     "output_type": "stream",
     "text": [
      "Enter the value of 'n':  9\n"
     ]
    },
    {
     "name": "stdout",
     "output_type": "stream",
     "text": [
      "\n",
      "Fibonacci Series:  0 1 1 2 3 5 8 13 21 "
     ]
    }
   ],
   "source": [
    "n = int(input(\"Enter the value of 'n': \"))\n",
    "a = 0\n",
    "b = 1\n",
    "sum = 0\n",
    "count = 1\n",
    "print(\"\\nFibonacci Series: \", end = \" \")\n",
    "while(count <= n):\n",
    "  print(sum, end = \" \")\n",
    "  count += 1\n",
    "  a = b\n",
    "  b = sum\n",
    "  sum = a + b\n"
   ]
  },
  {
   "cell_type": "markdown",
   "metadata": {
    "id": "u4uBUcQKlrTE"
   },
   "source": [
    "## 5. Complete the following code to find the minimum of 3 number using cinditional statements. Output should be as displayed"
   ]
  },
  {
   "cell_type": "code",
   "execution_count": 8,
   "metadata": {
    "id": "XdZwrZjIlrTF"
   },
   "outputs": [
    {
     "name": "stdin",
     "output_type": "stream",
     "text": [
      "Enter three numbers followed by  :  80 20 15\n"
     ]
    },
    {
     "name": "stdout",
     "output_type": "stream",
     "text": [
      "\n",
      "First number : 80\n",
      "\n",
      "Second number : 20\n",
      "\n",
      "Third number : 15\n",
      "15  is smallest\n",
      "\n"
     ]
    }
   ],
   "source": [
    "a,b,c =input(\"Enter three numbers followed by  : \").split()\n",
    "print(\"\\nFirst number :\",a)\n",
    "print(\"\\nSecond number :\",b)\n",
    "print(\"\\nThird number :\",c)\n",
    "if(a==b==c):\n",
    "    print(\"\\nEntered numbers are equal!!!\\n\")\n",
    "elif(a<b and a<c):\n",
    "    print(a,\" is smallest\\n\")\n",
    "elif(b<a and b<c):\n",
    "    print(b,\" is smallest\\n\")\n",
    "else:\n",
    "    print(c,\" is smallest\\n\")\n",
    "    "
   ]
  },
  {
   "cell_type": "markdown",
   "metadata": {
    "id": "aR_CnToWlrTG"
   },
   "source": [
    "## 6. Write a program to print star pyramind. The number of rows should be taken as input from the user"
   ]
  },
  {
   "cell_type": "code",
   "execution_count": 9,
   "metadata": {
    "id": "M37A-buplrTG"
   },
   "outputs": [
    {
     "name": "stdin",
     "output_type": "stream",
     "text": [
      "Enter the number of rows 10\n"
     ]
    },
    {
     "name": "stdout",
     "output_type": "stream",
     "text": [
      "* \n",
      "* * \n",
      "* * * \n",
      "* * * * \n",
      "* * * * * \n",
      "* * * * * * \n",
      "* * * * * * * \n",
      "* * * * * * * * \n",
      "* * * * * * * * * \n",
      "* * * * * * * * * * \n"
     ]
    }
   ],
   "source": [
    "n = int(input(\"Enter the number of rows\"))  \n",
    "\n",
    "for i in range(0, n):  \n",
    "    for j in range(0, i + 1):  \n",
    "            print(\"* \", end=\"\")       \n",
    "    print()\n",
    "    \n"
   ]
  },
  {
   "cell_type": "markdown",
   "metadata": {
    "id": "tlY6aFWBlrTH"
   },
   "source": [
    "## 7. Complete the following code to convert hour into seconds. Output should be as displayed"
   ]
  },
  {
   "cell_type": "code",
   "execution_count": 12,
   "metadata": {
    "id": "YOZQFk7FlrTH"
   },
   "outputs": [
    {
     "name": "stdin",
     "output_type": "stream",
     "text": [
      "Time in hours  10\n"
     ]
    },
    {
     "name": "stdout",
     "output_type": "stream",
     "text": [
      "\n",
      " 10 Hour is equal to 36000  Seconds\n"
     ]
    }
   ],
   "source": [
    "def to_seconds(t):\n",
    "    return t*60*60\n",
    "time_in_hours = int(input(\"Time in hours \"))\n",
    "print(\"\\n\",time_in_hours ,\"Hour is equal to\" ,to_seconds(time_in_hours) ,\" Seconds\")\n"
   ]
  },
  {
   "cell_type": "markdown",
   "metadata": {
    "id": "CnYorNiLlrTI"
   },
   "source": [
    "## 8. Write a program to print multiplication table as below"
   ]
  },
  {
   "cell_type": "code",
   "execution_count": 13,
   "metadata": {
    "id": "dPQqDPuDlrTI"
   },
   "outputs": [
    {
     "name": "stdin",
     "output_type": "stream",
     "text": [
      "enter the number to get multiplication table  9\n"
     ]
    },
    {
     "name": "stdout",
     "output_type": "stream",
     "text": [
      "\n",
      "the multiplication table of 9 is as follows:\n",
      "\n",
      " 1 * 9 = 9\n",
      "\n",
      " 2 * 9 = 18\n",
      "\n",
      " 3 * 9 = 27\n",
      "\n",
      " 4 * 9 = 36\n",
      "\n",
      " 5 * 9 = 45\n",
      "\n",
      " 6 * 9 = 54\n",
      "\n",
      " 7 * 9 = 63\n",
      "\n",
      " 8 * 9 = 72\n",
      "\n",
      " 9 * 9 = 81\n",
      "\n",
      " 10 * 9 = 90\n"
     ]
    }
   ],
   "source": [
    "n=int(input(\"enter the number to get multiplication table \"))\n",
    "print(\"\\nthe multiplication table of\",n,\"is as follows:\")\n",
    "s=0\n",
    "for i in range(1,11):\n",
    "    s=i*n\n",
    "    print('\\n',i,\"*\",n,\"=\",s)\n",
    "    "
   ]
  },
  {
   "cell_type": "markdown",
   "metadata": {
    "id": "Fiaez8iblrTI"
   },
   "source": [
    "## 9. Write a program to take your 5 favorite food as list and print each as 'I like Biriyani'"
   ]
  },
  {
   "cell_type": "code",
   "execution_count": 14,
   "metadata": {
    "id": "39W1zFX7lrTJ"
   },
   "outputs": [
    {
     "name": "stdin",
     "output_type": "stream",
     "text": [
      "enter your favourite food item  Dosa\n",
      "enter your favourite food item  Idli\n",
      "enter your favourite food item  Burger\n",
      "enter your favourite food item  Pizza\n",
      "enter your favourite food item  Puri\n"
     ]
    },
    {
     "name": "stdout",
     "output_type": "stream",
     "text": [
      "\n",
      "\n",
      "I like  Dosa\n",
      "I like  Idli\n",
      "I like  Burger\n",
      "I like  Pizza\n",
      "I like  Puri\n"
     ]
    }
   ],
   "source": [
    "lst = [ ] \n",
    "for i in range(0, 5): \n",
    "    ele = input(\"enter your favourite food item \" )\n",
    "    lst.append(ele) \n",
    "print(\"\\n\")\n",
    "\n",
    "print(\"I like \",lst[0])\n",
    "print(\"I like \",lst[1])\n",
    "print(\"I like \",lst[2])\n",
    "print(\"I like \",lst[3])\n",
    "print(\"I like \",lst[4])\n"
   ]
  },
  {
   "cell_type": "markdown",
   "metadata": {
    "id": "3vlcDNNEP7d_"
   },
   "source": [
    "## 10. Find error(s) in the following code(if any) and rewrite code.\n",
    "\n"
   ]
  },
  {
   "cell_type": "code",
   "execution_count": 15,
   "metadata": {
    "id": "coREkcY3P9sG"
   },
   "outputs": [
    {
     "name": "stdin",
     "output_type": "stream",
     "text": [
      "Enter value of x: 5\n"
     ]
    },
    {
     "name": "stdout",
     "output_type": "stream",
     "text": [
      "x and y are unequal\n",
      "x and y are unequal\n",
      "x and y are unequal\n",
      "x and y are unequal\n",
      "x and y are unequal\n",
      "x and y are equal\n",
      "x and y are unequal\n",
      "x and y are unequal\n",
      "x and y are unequal\n",
      "x and y are unequal\n"
     ]
    }
   ],
   "source": [
    "x= int(input(\"Enter value of x:\"))\n",
    "for y in range (0,10):\n",
    "     if (x==y):\n",
    "            print(\"x and y are equal\")\n",
    "     else:\n",
    "         print( \"x and y are unequal\")\n",
    "            "
   ]
  },
  {
   "cell_type": "code",
   "execution_count": null,
   "metadata": {},
   "outputs": [],
   "source": []
  }
 ],
 "metadata": {
  "colab": {
   "collapsed_sections": [],
   "name": "Q&A activity student file.ipynb",
   "provenance": []
  },
  "kernelspec": {
   "display_name": "Python 3",
   "language": "python",
   "name": "python3"
  },
  "language_info": {
   "codemirror_mode": {
    "name": "ipython",
    "version": 3
   },
   "file_extension": ".py",
   "mimetype": "text/x-python",
   "name": "python",
   "nbconvert_exporter": "python",
   "pygments_lexer": "ipython3",
   "version": "3.8.8"
  }
 },
 "nbformat": 4,
 "nbformat_minor": 4
}
